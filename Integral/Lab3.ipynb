{
 "cells": [
  {
   "cell_type": "markdown",
   "source": [
    "# Лабораторная работа №3 - Численное интегрирование"
   ],
   "metadata": {
    "collapsed": false
   }
  },
  {
   "cell_type": "markdown",
   "source": [
    "Импорты библиотек\n"
   ],
   "metadata": {
    "collapsed": false
   }
  },
  {
   "cell_type": "code",
   "execution_count": 1,
   "metadata": {
    "collapsed": true
   },
   "outputs": [],
   "source": [
    "import pandas as pd\n",
    "import math\n",
    "import numpy as np\n",
    "import seaborn as sns\n",
    "import matplotlib.pyplot as plt"
   ]
  },
  {
   "cell_type": "markdown",
   "source": [
    "Вариант 19: $f(x) = x^2*\\cosh(3*x)$"
   ],
   "metadata": {
    "collapsed": false
   }
  },
  {
   "cell_type": "code",
   "execution_count": 19,
   "outputs": [],
   "source": [
    "def func(x):\n",
    "    return x"
   ],
   "metadata": {
    "collapsed": false
   }
  },
  {
   "cell_type": "markdown",
   "source": [
    "Отрезок:"
   ],
   "metadata": {
    "collapsed": false
   }
  },
  {
   "cell_type": "code",
   "execution_count": 15,
   "outputs": [],
   "source": [
    "a = 0\n",
    "b = 1"
   ],
   "metadata": {
    "collapsed": false
   }
  },
  {
   "cell_type": "code",
   "execution_count": 16,
   "outputs": [
    {
     "name": "stdout",
     "output_type": "stream",
     "text": [
      "Значение интеграла:  0.5\n"
     ]
    }
   ],
   "source": [
    "def indefinite_integral(x):\n",
    "    return x\n",
    "\n",
    "value_integral = 0.5\n",
    "print(\"Значение интеграла: \", round(value_integral, 6))"
   ],
   "metadata": {
    "collapsed": false
   }
  },
  {
   "cell_type": "markdown",
   "source": [
    "Формула метода прямоугольников:"
   ],
   "metadata": {
    "collapsed": false
   }
  },
  {
   "cell_type": "code",
   "execution_count": 5,
   "outputs": [],
   "source": [
    "def rectangle_formula(f, h):\n",
    "    return f * h"
   ],
   "metadata": {
    "collapsed": false
   }
  },
  {
   "cell_type": "markdown",
   "source": [
    "Формула метода трапеций:"
   ],
   "metadata": {
    "collapsed": false
   }
  },
  {
   "cell_type": "code",
   "execution_count": 6,
   "outputs": [],
   "source": [
    "def trapezoid_formula(f1, f2, h):\n",
    "    return (f1 + f2) * h / 2"
   ],
   "metadata": {
    "collapsed": false
   }
  },
  {
   "cell_type": "markdown",
   "source": [
    "Формула метода Симпсона:"
   ],
   "metadata": {
    "collapsed": false
   }
  },
  {
   "cell_type": "code",
   "execution_count": 7,
   "outputs": [],
   "source": [
    "def simpson_formula(f1, f_prom, f2, h):\n",
    "    return (f1 + 4 * f_prom + f2) * h / 6"
   ],
   "metadata": {
    "collapsed": false
   }
  },
  {
   "cell_type": "markdown",
   "source": [
    "Задание сетки:"
   ],
   "metadata": {
    "collapsed": false
   }
  },
  {
   "cell_type": "code",
   "execution_count": 20,
   "outputs": [],
   "source": [
    "h = 0.01\n",
    "\n",
    "X = list(np.linspace(a, b, int((b - a) / h) + 1))\n",
    "F = [func(x) for x in X]\n",
    "\n",
    "h_min = 0.001\n",
    "h_max = 0.5\n",
    "h_step = 0.005"
   ],
   "metadata": {
    "collapsed": false
   }
  },
  {
   "cell_type": "markdown",
   "source": [
    "### Расчёт интегралов при помощи метода левых прямоугольников"
   ],
   "metadata": {
    "collapsed": false
   }
  },
  {
   "cell_type": "code",
   "execution_count": 21,
   "outputs": [
    {
     "name": "stdout",
     "output_type": "stream",
     "text": [
      "Значение интеграла:  0.495\n",
      "Погрешность:  0.005\n"
     ]
    }
   ],
   "source": [
    "left_rectangle_integral = 0\n",
    "for f in F[0:len(F)-1]:\n",
    "    left_rectangle_integral += rectangle_formula(f, h)\n",
    "print(\"Значение интеграла: \", round(left_rectangle_integral, 6))\n",
    "error_left_rectangle = abs(left_rectangle_integral - value_integral)\n",
    "print(\"Погрешность: \", round(error_left_rectangle, 6))"
   ],
   "metadata": {
    "collapsed": false
   }
  },
  {
   "cell_type": "markdown",
   "source": [
    "### Расчёт интегралов при помощи метода правых прямугольников"
   ],
   "metadata": {
    "collapsed": false
   }
  },
  {
   "cell_type": "code",
   "execution_count": 573,
   "outputs": [
    {
     "name": "stdout",
     "output_type": "stream",
     "text": [
      "Значение интеграла:  3.689033\n",
      "Погрешность:  0.000836\n"
     ]
    }
   ],
   "source": [
    "right_rectangle_integral = 0\n",
    "for f in F[1:len(F)]:\n",
    "    right_rectangle_integral += rectangle_formula(f, h)\n",
    "print(\"Значение интеграла: \", round(right_rectangle_integral, 6))\n",
    "error_right_rectangle = abs(right_rectangle_integral - value_integral)\n",
    "print(\"Погрешность: \", round(error_right_rectangle, 6))"
   ],
   "metadata": {
    "collapsed": false
   }
  },
  {
   "cell_type": "markdown",
   "source": [
    "### Расчёт интеграла при помощи метода средних прямоугольников"
   ],
   "metadata": {
    "collapsed": false
   }
  },
  {
   "cell_type": "code",
   "execution_count": 22,
   "outputs": [
    {
     "name": "stdout",
     "output_type": "stream",
     "text": [
      "Значение интеграла:  0.5\n",
      "Погрешность:  0.0\n"
     ]
    }
   ],
   "source": [
    "X_centres = []\n",
    "for i in range(1, len(X)):\n",
    "    X_centres.append((X[i - 1] + X[i]) / 2)\n",
    "F_centres = [func(x) for x in X_centres]\n",
    "\n",
    "centres_rectangle_integral = 0\n",
    "for f in F_centres:\n",
    "    centres_rectangle_integral += rectangle_formula(f, h)\n",
    "print(\"Значение интеграла: \", round(centres_rectangle_integral, 6))\n",
    "error_centres_rectangle = abs(centres_rectangle_integral - value_integral)\n",
    "print(\"Погрешность: \", round(error_centres_rectangle, 6))"
   ],
   "metadata": {
    "collapsed": false
   }
  },
  {
   "cell_type": "markdown",
   "source": [
    "Зависимость погрешности от шага для метода центральных прямоугольников"
   ],
   "metadata": {
    "collapsed": false
   }
  },
  {
   "cell_type": "code",
   "execution_count": 23,
   "outputs": [
    {
     "name": "stdout",
     "output_type": "stream",
     "text": [
      "\n"
     ]
    },
    {
     "data": {
      "text/plain": "<Figure size 432x288 with 1 Axes>",
      "image/png": "[encoded data removed]"
     },
     "metadata": {},
     "output_type": "display_data"
    }
   ],
   "source": [
    "h_values = np.arange(h_min, h_max, h_step)\n",
    "centre_errors = []\n",
    "for h_ in h_values:\n",
    "    x_values = list(np.arange(a, b + h_, h_))\n",
    "    while x_values[-1] > b:\n",
    "        x_values.pop(len(x_values) - 1)\n",
    "    if b not in x_values:\n",
    "        x_values.pop(len(x_values) - 1)\n",
    "        x_values.append(b)\n",
    "    F_values = [func(x) for x in x_values]\n",
    "    value = 0\n",
    "    for f in F_values:\n",
    "        value += rectangle_formula(f, h_)\n",
    "    centre_errors.append(abs(value - value_integral))\n",
    "\n",
    "sns.lineplot(x=np.array(h_values), y=np.array(centre_errors))\n",
    "plt.title(\"Зависимость погрешности от шага\")\n",
    "print()"
   ],
   "metadata": {
    "collapsed": false
   }
  },
  {
   "cell_type": "code",
   "execution_count": 576,
   "outputs": [],
   "source": [
    "# graphic = sns.lineplot(x=h_values, y=centre_errors)\n",
    "# graphic.set_xscale('log')\n",
    "# graphic.set_yscale('log')"
   ],
   "metadata": {
    "collapsed": false
   }
  },
  {
   "cell_type": "markdown",
   "source": [
    "### Расчёт интеграла методом трапеций"
   ],
   "metadata": {
    "collapsed": false
   }
  },
  {
   "cell_type": "code",
   "execution_count": 24,
   "outputs": [
    {
     "name": "stdout",
     "output_type": "stream",
     "text": [
      "Значение интеграла:  0.5\n",
      "Погрешность:  0.0\n"
     ]
    }
   ],
   "source": [
    "trapezoid_integral = 0\n",
    "for i in range(len(F) - 1):\n",
    "    trapezoid_integral += trapezoid_formula(F[i], F[i + 1], h)\n",
    "print(\"Значение интеграла: \", round(trapezoid_integral, 6))\n",
    "error_trapezoid = abs(trapezoid_integral - value_integral)\n",
    "print(\"Погрешность: \", round(error_trapezoid, 6))"
   ],
   "metadata": {
    "collapsed": false
   }
  },
  {
   "cell_type": "markdown",
   "source": [
    "Зависимость погрешности от шага для метода трапеций"
   ],
   "metadata": {
    "collapsed": false
   }
  },
  {
   "cell_type": "code",
   "execution_count": 25,
   "outputs": [
    {
     "name": "stdout",
     "output_type": "stream",
     "text": [
      "\n"
     ]
    },
    {
     "data": {
      "text/plain": "<Figure size 432x288 with 1 Axes>",
      "image/png": "[encoded data removed]"
     },
     "metadata": {},
     "output_type": "display_data"
    }
   ],
   "source": [
    "h_values = np.arange(h_min, h_max, h_step)\n",
    "trapezoid_errors = []\n",
    "for h_ in h_values:\n",
    "    x_values = list(np.arange(a, b + h_, h_))\n",
    "    while x_values[-1] > b:\n",
    "        x_values.pop(len(x_values) - 1)\n",
    "    if b not in x_values:\n",
    "        x_values.pop(len(x_values) - 1)\n",
    "        x_values.append(b)\n",
    "    F_values = [func(x) for x in x_values]\n",
    "    value = 0\n",
    "    for i in range(len(F) - 1):\n",
    "        value += trapezoid_formula(F[i], F[i + 1], h)\n",
    "    trapezoid_errors.append(abs(value - value_integral))\n",
    "sns.lineplot(x=np.array(h_values), y=np.array(trapezoid_errors))\n",
    "plt.title(\"Зависимость погрешности от шага\")\n",
    "print()"
   ],
   "metadata": {
    "collapsed": false
   }
  },
  {
   "cell_type": "markdown",
   "source": [
    "### Расчёт интеграла методом Симпсона"
   ],
   "metadata": {
    "collapsed": false
   }
  },
  {
   "cell_type": "code",
   "execution_count": 26,
   "outputs": [
    {
     "name": "stdout",
     "output_type": "stream",
     "text": [
      "Значение интеграла:  0.5\n",
      "Погрешность:  0.0\n"
     ]
    }
   ],
   "source": [
    "X.extend(X_centres)\n",
    "X.sort()\n",
    "F_simp = [func(x) for x in X]\n",
    "\n",
    "simpson_integral = 0\n",
    "for i in range(1, len(F_simp) - 1, 2):\n",
    "    simpson_integral += simpson_formula(F_simp[i - 1], F_simp[i], F_simp[i + 1], h)\n",
    "print(\"Значение интеграла: \", round(simpson_integral, 6))\n",
    "error_simpson = abs(simpson_integral - value_integral)\n",
    "print(\"Погрешность: \", round(error_simpson, 9))"
   ],
   "metadata": {
    "collapsed": false
   }
  },
  {
   "cell_type": "markdown",
   "source": [
    "Зависимость погрешности от шага для метода Симпсона"
   ],
   "metadata": {
    "collapsed": false
   }
  },
  {
   "cell_type": "code",
   "execution_count": 27,
   "outputs": [
    {
     "name": "stdout",
     "output_type": "stream",
     "text": [
      "\n"
     ]
    },
    {
     "data": {
      "text/plain": "<Figure size 432x288 with 1 Axes>",
      "image/png": "[encoded data removed]"
     },
     "metadata": {},
     "output_type": "display_data"
    }
   ],
   "source": [
    "h_values = np.arange(h_min, h_max, h_step)\n",
    "simpson_errors = []\n",
    "for h_ in h_values:\n",
    "    x_values = list(np.arange(a, b + h_, h_))\n",
    "    while x_values[-1] > b:\n",
    "        x_values.pop(len(x_values) - 1)\n",
    "    if b not in x_values:\n",
    "        x_values.pop(len(x_values) - 1)\n",
    "        x_values.append(b)\n",
    "    F_values = [func(x) for x in x_values]\n",
    "    value = 0\n",
    "    for i in range(1, len(F_simp) - 1, 2):\n",
    "        value += simpson_formula(F_simp[i - 1], F_simp[i], F_simp[i + 1], h)\n",
    "    simpson_errors.append(abs(value - value_integral))\n",
    "\n",
    "sns.lineplot(x=np.array(h_values), y=np.array(simpson_errors))\n",
    "plt.title(\"Зависимость погрешности от шага\")\n",
    "print()"
   ],
   "metadata": {
    "collapsed": false
   }
  },
  {
   "cell_type": "code",
   "execution_count": 581,
   "outputs": [
    {
     "name": "stdout",
     "output_type": "stream",
     "text": [
      "\n"
     ]
    },
    {
     "data": {
      "text/plain": "<Figure size 432x288 with 1 Axes>",
      "image/png": "[encoded data removed]"
     },
     "metadata": {
      "needs_background": "light"
     },
     "output_type": "display_data"
    }
   ],
   "source": [
    "legend = ['Метод прямоугольников', 'Метод трапеций', 'Метод Симпсона']\n",
    "for arr in [centre_errors, trapezoid_errors, simpson_errors]:\n",
    "    sns.lineplot(x=h_values, y=arr)\n",
    "plt.legend(legend)\n",
    "print()"
   ],
   "metadata": {
    "collapsed": false
   }
  }
 ],
 "metadata": {
  "kernelspec": {
   "display_name": "Python 3",
   "language": "python",
   "name": "python3"
  },
  "language_info": {
   "codemirror_mode": {
    "name": "ipython",
    "version": 2
   },
   "file_extension": ".py",
   "mimetype": "text/x-python",
   "name": "python",
   "nbconvert_exporter": "python",
   "pygments_lexer": "ipython2",
   "version": "2.7.6"
  }
 },
 "nbformat": 4,
 "nbformat_minor": 0
}
